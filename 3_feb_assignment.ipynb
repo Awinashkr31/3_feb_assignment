{
 "cells": [
  {
   "cell_type": "code",
   "execution_count": 6,
   "id": "fdbda4b4-7015-486c-a67a-c56c03ae805f",
   "metadata": {},
   "outputs": [],
   "source": [
    "# Q1. Which keyword is used to create a function? Create a function to return a list of odd numbers in the\n",
    "#     range of 1 to 25."
   ]
  },
  {
   "cell_type": "code",
   "execution_count": 5,
   "id": "bbfec873-ad5f-466b-bde9-77c22e799e16",
   "metadata": {},
   "outputs": [],
   "source": [
    "\"\"\" In Python, the keyword \"def\" is used to create a function. \"\"\"\n",
    "def odd_numbers():\n",
    "    odds = []\n",
    "    for i in range(1, 26):\n",
    "        if i % 2 != 0:\n",
    "            odds.append(i)\n",
    "    return odds\n"
   ]
  },
  {
   "cell_type": "code",
   "execution_count": 7,
   "id": "5c97612e-d3e7-4957-a265-fffd33441543",
   "metadata": {},
   "outputs": [
    {
     "data": {
      "text/plain": [
       "[1, 3, 5, 7, 9, 11, 13, 15, 17, 19, 21, 23, 25]"
      ]
     },
     "execution_count": 7,
     "metadata": {},
     "output_type": "execute_result"
    }
   ],
   "source": [
    "odd_numbers()"
   ]
  },
  {
   "cell_type": "code",
   "execution_count": 8,
   "id": "d823fc20-6c7a-4852-a0dc-7092740e2291",
   "metadata": {},
   "outputs": [],
   "source": [
    "# Q2. Why *args and **kwargs is used in some functions? Create a function each for *args and **kwargs to demonstrate their use."
   ]
  },
  {
   "cell_type": "code",
   "execution_count": 9,
   "id": "e068248c-900a-4df1-91dd-9d31bb88df36",
   "metadata": {},
   "outputs": [
    {
     "name": "stdout",
     "output_type": "stream",
     "text": [
      "1\n",
      "2\n",
      "3\n",
      "4\n",
      "5\n",
      "name: Awinash\n",
      "age: 20\n",
      "location: Bhagalpur\n"
     ]
    }
   ],
   "source": [
    "\"\"\" The asterisk (*) is used to pass a non-keyworded, variable length argument list,\n",
    "    and double asterisks (**) are used to pass keyworded, variable length argument dictionaries. \"\"\"\n",
    "\n",
    "def print_args(*args):\n",
    "    for arg in args:\n",
    "        print(arg)\n",
    "\n",
    "print_args(1, 2, 3, 4, 5)\n",
    "\n",
    "# using **\n",
    "\n",
    "def print_kwargs(**kwargs):\n",
    "    for key, value in kwargs.items():\n",
    "        print(f\"{key}: {value}\")\n",
    "\n",
    "print_kwargs(name=\"Awinash\", age=20, location=\"Bhagalpur\")\n"
   ]
  },
  {
   "cell_type": "code",
   "execution_count": 10,
   "id": "2cd80712-d07c-4a70-8b21-b2f40e6b8544",
   "metadata": {},
   "outputs": [],
   "source": [
    "# Q3. What is an iterator in python? Name the method used to initialise the iterator object and the method\n",
    "#     used for iteration. Use these methods to print the first five elements of the given list [2, 4, 6, 8, 10, 12, 14,16, 18, 20]."
   ]
  },
  {
   "cell_type": "code",
   "execution_count": 25,
   "id": "f2e1f9cd-d819-44e9-bd73-e01dff799a66",
   "metadata": {},
   "outputs": [
    {
     "name": "stdout",
     "output_type": "stream",
     "text": [
      "2\n",
      "4\n",
      "6\n",
      "8\n",
      "10\n"
     ]
    }
   ],
   "source": [
    "# define a list\n",
    "my_list = [2, 4, 6, 8, 10, 12, 14, 16, 18, 20]\n",
    "\n",
    "# create an iterator object\n",
    "my_iter = iter(my_list)\n",
    "\n",
    "# use the __next__ method to get the next element from the iterator\n",
    "count = 0\n",
    "while count < 5:\n",
    "    print(next(my_iter))\n",
    "    count =count + 1\n"
   ]
  },
  {
   "cell_type": "code",
   "execution_count": 11,
   "id": "08ac1893-3892-480c-9103-456cbb564b31",
   "metadata": {},
   "outputs": [],
   "source": [
    "# Q4. What is a generator function in python? Why yield keyword is used? Give an example of a generator function."
   ]
  },
  {
   "cell_type": "code",
   "execution_count": 26,
   "id": "ca485d50-e0fc-4314-ae2c-138fc7609b76",
   "metadata": {},
   "outputs": [
    {
     "name": "stdout",
     "output_type": "stream",
     "text": [
      "0\n",
      "1\n",
      "1\n",
      "2\n",
      "3\n",
      "5\n",
      "8\n",
      "13\n",
      "21\n",
      "34\n"
     ]
    }
   ],
   "source": [
    "\"\"\" In Python, a generator function is a special type of function that returns a generator iterator.\n",
    "    It is defined using the yield keyword instead of return. When a generator function is called, \n",
    "    it does not execute the function code immediately. Instead, it returns a generator object that can be iterated over\n",
    "    to get the values produced by the function.\n",
    "\n",
    "  The yield keyword is used to return a value from the generator function and pause its execution. The next time the generator\n",
    "  is called, the function resumes its execution immediately after the yield statement and continues until it reaches the \n",
    "  next yield or the end of the function. This allows the generator function to produce a sequence of values, one at a time,\n",
    "  without having to generate all of the values at once, which can be more efficient in terms of memory usage. \"\"\"\n",
    "\n",
    "def fibonacci_generator(n):\n",
    "    fib1, fib2 = 0, 1\n",
    "    count = 0\n",
    "    while count < n:\n",
    "        yield fib1\n",
    "        fib_sum = fib1 + fib2\n",
    "        fib1 = fib2\n",
    "        fib2 = fib_sum\n",
    "        count += 1\n",
    "\n",
    "# create a generator object\n",
    "fib_gen = fibonacci_generator(10)\n",
    "\n",
    "# use the generator object to get the first 10 Fibonacci numbers\n",
    "for num in fib_gen:\n",
    "    print(num)\n"
   ]
  },
  {
   "cell_type": "code",
   "execution_count": 12,
   "id": "1bc44865-434a-468c-87b1-5c5cfeaba89b",
   "metadata": {},
   "outputs": [],
   "source": [
    "# Q5. Create a generator function for prime numbers less than 1000. Use the next() method to print the first 20 prime numbers."
   ]
  },
  {
   "cell_type": "code",
   "execution_count": 27,
   "id": "68b7c785-7a39-4708-84c1-6ce4c15dd2cd",
   "metadata": {},
   "outputs": [
    {
     "name": "stdout",
     "output_type": "stream",
     "text": [
      "2\n",
      "3\n",
      "5\n",
      "7\n",
      "11\n",
      "13\n",
      "17\n",
      "19\n",
      "23\n",
      "29\n",
      "31\n",
      "37\n",
      "41\n",
      "43\n",
      "47\n",
      "53\n",
      "59\n",
      "61\n",
      "67\n",
      "71\n"
     ]
    }
   ],
   "source": [
    "def prime_generator():\n",
    "    num = 2\n",
    "    while num < 1000:\n",
    "        for i in range(2, num):\n",
    "            if num % i == 0:\n",
    "                break\n",
    "        else:\n",
    "            yield num\n",
    "        num = num + 1\n",
    "\n",
    "# create a generator object\n",
    "prime_gen = prime_generator()\n",
    "\n",
    "# use the next() method to get the first 20 prime numbers\n",
    "count = 0\n",
    "while count < 20:\n",
    "    print(next(prime_gen))\n",
    "    count = count + 1\n"
   ]
  },
  {
   "cell_type": "code",
   "execution_count": 13,
   "id": "e7279d58-994e-480a-ad3a-b2aaee8e3c34",
   "metadata": {},
   "outputs": [],
   "source": [
    "# Q6. Write a python program to print the first 10 Fibonacci numbers using a while loop."
   ]
  },
  {
   "cell_type": "code",
   "execution_count": null,
   "id": "34a5d488-2822-4554-b03a-bc288da90cd8",
   "metadata": {},
   "outputs": [],
   "source": []
  },
  {
   "cell_type": "code",
   "execution_count": 14,
   "id": "21c652c6-9c18-4fd2-8e8e-9770c3ed70bf",
   "metadata": {},
   "outputs": [],
   "source": [
    "# Q7. Write a List Comprehension to iterate through the given string: ‘pwskills’.\n",
    "#      Expected output: ['p', 'w', 's', 'k', 'i', 'l', 'l', 's']"
   ]
  },
  {
   "cell_type": "code",
   "execution_count": 22,
   "id": "df1b9cf9-df11-4784-b730-4bb7a45a8f61",
   "metadata": {},
   "outputs": [
    {
     "name": "stdout",
     "output_type": "stream",
     "text": [
      "['p', 'w', 's', 'k', 'i', 'l', 'l', 's']\n"
     ]
    }
   ],
   "source": [
    "string = \"pwskills\"\n",
    "letters = [char for char in string]\n",
    "print(letters)\n"
   ]
  },
  {
   "cell_type": "code",
   "execution_count": 15,
   "id": "b7cda43c-7107-421f-a72d-824e1ed109d9",
   "metadata": {},
   "outputs": [],
   "source": [
    "# Q8. Write a python program to check whether a given number is Palindrome or not using a while loop."
   ]
  },
  {
   "cell_type": "code",
   "execution_count": 21,
   "id": "f1d6b49f-7472-436c-bdcb-9df54c419086",
   "metadata": {},
   "outputs": [
    {
     "name": "stdout",
     "output_type": "stream",
     "text": [
      "True\n",
      "False\n",
      "True\n"
     ]
    }
   ],
   "source": [
    "def is_palindrome(num):\n",
    "    original_num = num\n",
    "    reverse_num = 0\n",
    "    while num > 0:\n",
    "        last_digit = num % 10\n",
    "        reverse_num = (reverse_num * 10) + last_digit\n",
    "        num = num // 10\n",
    "    return original_num == reverse_num\n",
    "\n",
    "# test with a few examples\n",
    "print(is_palindrome(121)) # True\n",
    "print(is_palindrome(123)) # False\n",
    "print(is_palindrome(1)) # True\n"
   ]
  },
  {
   "cell_type": "code",
   "execution_count": 16,
   "id": "264925b0-15fe-4e0d-9a9f-0295f19a5927",
   "metadata": {},
   "outputs": [],
   "source": [
    "# Q9. Write a code to print odd numbers from 1 to 100 using list comprehension."
   ]
  },
  {
   "cell_type": "code",
   "execution_count": 17,
   "id": "e99a606a-f438-4397-8858-87883d335abf",
   "metadata": {},
   "outputs": [
    {
     "name": "stdout",
     "output_type": "stream",
     "text": [
      "[1, 3, 5, 7, 9, 11, 13, 15, 17, 19, 21, 23, 25, 27, 29, 31, 33, 35, 37, 39, 41, 43, 45, 47, 49, 51, 53, 55, 57, 59, 61, 63, 65, 67, 69, 71, 73, 75, 77, 79, 81, 83, 85, 87, 89, 91, 93, 95, 97, 99]\n"
     ]
    }
   ],
   "source": [
    "odd_numbers = [x for x in range(1,101) if x % 2 != 0]\n",
    "print(odd_numbers)\n"
   ]
  },
  {
   "cell_type": "code",
   "execution_count": null,
   "id": "75b3a90f-fbca-4c2e-91fd-c1dac66ae6ae",
   "metadata": {},
   "outputs": [],
   "source": []
  }
 ],
 "metadata": {
  "kernelspec": {
   "display_name": "Python 3 (ipykernel)",
   "language": "python",
   "name": "python3"
  },
  "language_info": {
   "codemirror_mode": {
    "name": "ipython",
    "version": 3
   },
   "file_extension": ".py",
   "mimetype": "text/x-python",
   "name": "python",
   "nbconvert_exporter": "python",
   "pygments_lexer": "ipython3",
   "version": "3.10.8"
  }
 },
 "nbformat": 4,
 "nbformat_minor": 5
}
